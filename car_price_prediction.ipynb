{
 "cells": [
  {
   "cell_type": "code",
   "execution_count": 8,
   "metadata": {},
   "outputs": [
    {
     "data": {
      "text/html": [
       "        <script type=\"text/javascript\">\n",
       "        window.PlotlyConfig = {MathJaxConfig: 'local'};\n",
       "        if (window.MathJax) {MathJax.Hub.Config({SVG: {font: \"STIX-Web\"}});}\n",
       "        if (typeof require !== 'undefined') {\n",
       "        require.undef(\"plotly\");\n",
       "        requirejs.config({\n",
       "            paths: {\n",
       "                'plotly': ['https://cdn.plot.ly/plotly-2.9.0.min']\n",
       "            }\n",
       "        });\n",
       "        require(['plotly'], function(Plotly) {\n",
       "            window._Plotly = Plotly;\n",
       "        });\n",
       "        }\n",
       "        </script>\n",
       "        "
      ]
     },
     "metadata": {},
     "output_type": "display_data"
    },
    {
     "data": {
      "text/html": [
       "        <script type=\"text/javascript\">\n",
       "        window.PlotlyConfig = {MathJaxConfig: 'local'};\n",
       "        if (window.MathJax) {MathJax.Hub.Config({SVG: {font: \"STIX-Web\"}});}\n",
       "        if (typeof require !== 'undefined') {\n",
       "        require.undef(\"plotly\");\n",
       "        requirejs.config({\n",
       "            paths: {\n",
       "                'plotly': ['https://cdn.plot.ly/plotly-2.9.0.min']\n",
       "            }\n",
       "        });\n",
       "        require(['plotly'], function(Plotly) {\n",
       "            window._Plotly = Plotly;\n",
       "        });\n",
       "        }\n",
       "        </script>\n",
       "        "
      ]
     },
     "metadata": {},
     "output_type": "display_data"
    }
   ],
   "source": [
    "import numpy as np\n",
    "import pandas as pd\n",
    "import matplotlib.pyplot as plt\n",
    "import seaborn as sns\n",
    "import cufflinks as cf\n",
    "cf.go_offline()\n",
    "from chart_studio import plotly as py\n",
    "from plotly.offline import download_plotlyjs, init_notebook_mode, plot, iplot\n",
    "init_notebook_mode(connected=True)"
   ]
  },
  {
   "cell_type": "code",
   "execution_count": 9,
   "metadata": {},
   "outputs": [
    {
     "name": "stdout",
     "output_type": "stream",
     "text": [
      "<class 'pandas.core.frame.DataFrame'>\n",
      "RangeIndex: 205 entries, 0 to 204\n",
      "Data columns (total 26 columns):\n",
      " #   Column            Non-Null Count  Dtype  \n",
      "---  ------            --------------  -----  \n",
      " 0   car_ID            205 non-null    int64  \n",
      " 1   symboling         205 non-null    int64  \n",
      " 2   CarName           205 non-null    object \n",
      " 3   fueltype          205 non-null    object \n",
      " 4   aspiration        205 non-null    object \n",
      " 5   doornumber        205 non-null    object \n",
      " 6   carbody           205 non-null    object \n",
      " 7   drivewheel        205 non-null    object \n",
      " 8   enginelocation    205 non-null    object \n",
      " 9   wheelbase         205 non-null    float64\n",
      " 10  carlength         205 non-null    float64\n",
      " 11  carwidth          205 non-null    float64\n",
      " 12  carheight         205 non-null    float64\n",
      " 13  curbweight        205 non-null    int64  \n",
      " 14  enginetype        205 non-null    object \n",
      " 15  cylindernumber    205 non-null    object \n",
      " 16  enginesize        205 non-null    int64  \n",
      " 17  fuelsystem        205 non-null    object \n",
      " 18  boreratio         205 non-null    float64\n",
      " 19  stroke            205 non-null    float64\n",
      " 20  compressionratio  205 non-null    float64\n",
      " 21  horsepower        205 non-null    int64  \n",
      " 22  peakrpm           205 non-null    int64  \n",
      " 23  citympg           205 non-null    int64  \n",
      " 24  highwaympg        205 non-null    int64  \n",
      " 25  price             205 non-null    float64\n",
      "dtypes: float64(8), int64(8), object(10)\n",
      "memory usage: 41.8+ KB\n",
      "None\n"
     ]
    }
   ],
   "source": [
    "data=pd.read_csv('C:/Users/Ayo Agbaje/Documents/Code/Python/GIGS/DATASETS/CarPrice_Assignment.csv')\n",
    "print (data.info())"
   ]
  },
  {
   "cell_type": "code",
   "execution_count": 10,
   "metadata": {},
   "outputs": [
    {
     "name": "stdout",
     "output_type": "stream",
     "text": [
      "138\n"
     ]
    }
   ],
   "source": [
    "print (data['price'].argmin())"
   ]
  },
  {
   "cell_type": "markdown",
   "metadata": {},
   "source": [
    "EXPLORATORY DATA ANALYSIS"
   ]
  },
  {
   "cell_type": "code",
   "execution_count": 11,
   "metadata": {},
   "outputs": [
    {
     "name": "stdout",
     "output_type": "stream",
     "text": [
      "car_ID              0\n",
      "symboling           0\n",
      "CarName             0\n",
      "fueltype            0\n",
      "aspiration          0\n",
      "doornumber          0\n",
      "carbody             0\n",
      "drivewheel          0\n",
      "enginelocation      0\n",
      "wheelbase           0\n",
      "carlength           0\n",
      "carwidth            0\n",
      "carheight           0\n",
      "curbweight          0\n",
      "enginetype          0\n",
      "cylindernumber      0\n",
      "enginesize          0\n",
      "fuelsystem          0\n",
      "boreratio           0\n",
      "stroke              0\n",
      "compressionratio    0\n",
      "horsepower          0\n",
      "peakrpm             0\n",
      "citympg             0\n",
      "highwaympg          0\n",
      "price               0\n",
      "dtype: int64\n"
     ]
    }
   ],
   "source": [
    "print (data.isnull().sum())"
   ]
  },
  {
   "cell_type": "code",
   "execution_count": 12,
   "metadata": {},
   "outputs": [],
   "source": [
    "data = data.sort_values('price', ascending = False)"
   ]
  },
  {
   "cell_type": "code",
   "execution_count": 13,
   "metadata": {},
   "outputs": [
    {
     "name": "stdout",
     "output_type": "stream",
     "text": [
      "74     45400.0\n",
      "16     41315.0\n",
      "73     40960.0\n",
      "128    37028.0\n",
      "17     36880.0\n",
      "        ...   \n",
      "76      5389.0\n",
      "150     5348.0\n",
      "50      5195.0\n",
      "18      5151.0\n",
      "138     5118.0\n",
      "Name: price, Length: 205, dtype: float64\n"
     ]
    }
   ],
   "source": [
    "print (data['price'])"
   ]
  },
  {
   "cell_type": "code",
   "execution_count": 14,
   "metadata": {},
   "outputs": [
    {
     "data": {
      "image/png": "[encoded data removed]",
      "text/plain": [
       "<Figure size 720x432 with 1 Axes>"
      ]
     },
     "metadata": {},
     "output_type": "display_data"
    }
   ],
   "source": [
    "plt.style.use('dark_background')\n",
    "# fig, ax = plt.subplots(nrows = 1, ncols = 1, figsize=(10, 6))\n",
    "# ax.hist(df['price'], bins = 30, color = 'blue')\n",
    "plt.figure(figsize = (10,6))\n",
    "sns.histplot(data['price'], bins = 30, kde = True, color = 'red', line_kws = {'linewidth': 3,'color': 'green'})\n",
    "plt.tick_params(axis='both', labelsize = 14, labelcolor = 'white')\n",
    "plt.xlabel('PRICE', fontsize = 14, color = 'white', fontweight = 'bold')\n",
    "plt.ylabel('FREQUENCY', fontsize = 14, color = 'white', fontweight = 'bold')\n",
    "plt.title('HISTOGRAM SHOWING DISTRIBUTION OF HOUSE PRICES', fontsize = 14, color = 'white', fontweight = 'bold', loc = 'left')\n",
    "plt.grid(axis = 'y')\n",
    "plt.savefig('C:/Users/Ayo Agbaje/Documents/Code/Python/GIGS/IMAGES/ML_gig/car_level.png')"
   ]
  },
  {
   "cell_type": "code",
   "execution_count": 15,
   "metadata": {},
   "outputs": [
    {
     "name": "stdout",
     "output_type": "stream",
     "text": [
      "Index(['car_ID', 'symboling', 'CarName', 'fueltype', 'aspiration',\n",
      "       'doornumber', 'carbody', 'drivewheel', 'enginelocation', 'wheelbase',\n",
      "       'carlength', 'carwidth', 'carheight', 'curbweight', 'enginetype',\n",
      "       'cylindernumber', 'enginesize', 'fuelsystem', 'boreratio', 'stroke',\n",
      "       'compressionratio', 'horsepower', 'peakrpm', 'citympg', 'highwaympg',\n",
      "       'price'],\n",
      "      dtype='object')\n"
     ]
    }
   ],
   "source": [
    "print (data.columns)"
   ]
  },
  {
   "cell_type": "code",
   "execution_count": 16,
   "metadata": {},
   "outputs": [],
   "source": [
    "data.columns = ['Car ID', 'Symboling', 'Car Name', 'Fuel Type', 'Aspiration',\n",
    "       'Door Number', 'Car body', 'Drive Wheel', 'Engine Location', 'Wheelbase',\n",
    "       'Car Length', 'Car Width', 'Car Height', 'Curb Weight', 'Engine Type',\n",
    "       'Cylinder Number', 'Engine Size', 'Fuel System', 'Bore Ratio', 'Stroke',\n",
    "       'Compression Ratio', 'Horsepower', 'Peakrpm', 'City mpg', 'Highway mpg',\n",
    "       'Price']"
   ]
  },
  {
   "cell_type": "code",
   "execution_count": 17,
   "metadata": {},
   "outputs": [
    {
     "name": "stdout",
     "output_type": "stream",
     "text": [
      "     Compression Ratio  Horsepower  Peakrpm  City mpg  Highway mpg    Price\n",
      "74                 8.0         184     4500        14           16  45400.0\n",
      "16                 8.0         182     5400        16           22  41315.0\n",
      "73                 8.0         184     4500        14           16  40960.0\n",
      "128                9.5         207     5900        17           25  37028.0\n",
      "17                 8.0         182     5400        15           20  36880.0\n"
     ]
    }
   ],
   "source": [
    "print (data[data.columns[20:30]].head())"
   ]
  },
  {
   "cell_type": "code",
   "execution_count": 18,
   "metadata": {},
   "outputs": [
    {
     "name": "stdout",
     "output_type": "stream",
     "text": [
      "   Car ID  Symboling                         Car Name Fuel Type Aspiration  \\\n",
      "0      75          1  buick regal sport coupe (turbo)       gas        std   \n",
      "1      17          0                           bmw x5       gas        std   \n",
      "2      74          0            buick century special       gas        std   \n",
      "3     129          3                   porsche boxter       gas        std   \n",
      "4      18          0                           bmw x3       gas        std   \n",
      "\n",
      "  Door Number     Car body Drive Wheel Engine Location  Wheelbase  ...  \\\n",
      "0         two      hardtop         rwd           front      112.0  ...   \n",
      "1         two        sedan         rwd           front      103.5  ...   \n",
      "2        four        sedan         rwd           front      120.9  ...   \n",
      "3         two  convertible         rwd            rear       89.5  ...   \n",
      "4        four        sedan         rwd           front      110.0  ...   \n",
      "\n",
      "   Engine Size  Fuel System  Bore Ratio  Stroke Compression Ratio Horsepower  \\\n",
      "0          304         mpfi        3.80    3.35               8.0        184   \n",
      "1          209         mpfi        3.62    3.39               8.0        182   \n",
      "2          308         mpfi        3.80    3.35               8.0        184   \n",
      "3          194         mpfi        3.74    2.90               9.5        207   \n",
      "4          209         mpfi        3.62    3.39               8.0        182   \n",
      "\n",
      "   Peakrpm City mpg  Highway mpg    Price  \n",
      "0     4500       14           16  45400.0  \n",
      "1     5400       16           22  41315.0  \n",
      "2     4500       14           16  40960.0  \n",
      "3     5900       17           25  37028.0  \n",
      "4     5400       15           20  36880.0  \n",
      "\n",
      "[5 rows x 26 columns]\n"
     ]
    }
   ],
   "source": [
    "data = data.reset_index()\n",
    "data = data.drop('index', axis = 1)\n",
    "print (data.head())"
   ]
  },
  {
   "cell_type": "code",
   "execution_count": 19,
   "metadata": {},
   "outputs": [
    {
     "name": "stdout",
     "output_type": "stream",
     "text": [
      "   Car ID  Symboling                         Car Name Fuel Type Aspiration  \\\n",
      "0      75          1  buick regal sport coupe (turbo)       gas        std   \n",
      "1      17          0                           bmw x5       gas        std   \n",
      "2      74          0            buick century special       gas        std   \n",
      "3     129          3                   porsche boxter       gas        std   \n",
      "4      18          0                           bmw x3       gas        std   \n",
      "\n",
      "  Door Number     Car body Drive Wheel Engine Location  Wheelbase  ...  \\\n",
      "0         two      hardtop         rwd           front      112.0  ...   \n",
      "1         two        sedan         rwd           front      103.5  ...   \n",
      "2        four        sedan         rwd           front      120.9  ...   \n",
      "3         two  convertible         rwd            rear       89.5  ...   \n",
      "4        four        sedan         rwd           front      110.0  ...   \n",
      "\n",
      "   Engine Size  Fuel System  Bore Ratio  Stroke Compression Ratio Horsepower  \\\n",
      "0          304         mpfi        3.80    3.35               8.0        184   \n",
      "1          209         mpfi        3.62    3.39               8.0        182   \n",
      "2          308         mpfi        3.80    3.35               8.0        184   \n",
      "3          194         mpfi        3.74    2.90               9.5        207   \n",
      "4          209         mpfi        3.62    3.39               8.0        182   \n",
      "\n",
      "   Peakrpm City mpg  Highway mpg    Price  \n",
      "0     4500       14           16  45400.0  \n",
      "1     5400       16           22  41315.0  \n",
      "2     4500       14           16  40960.0  \n",
      "3     5900       17           25  37028.0  \n",
      "4     5400       15           20  36880.0  \n",
      "\n",
      "[5 rows x 26 columns]\n"
     ]
    }
   ],
   "source": [
    "print (data.head(5))"
   ]
  },
  {
   "cell_type": "markdown",
   "metadata": {},
   "source": [
    "FEATURE ENGINEERING"
   ]
  },
  {
   "cell_type": "code",
   "execution_count": 20,
   "metadata": {},
   "outputs": [
    {
     "name": "stdout",
     "output_type": "stream",
     "text": [
      "[ 1  0  3 -1  2 -2]\n"
     ]
    }
   ],
   "source": [
    "print (data['Symboling'].unique())"
   ]
  },
  {
   "cell_type": "code",
   "execution_count": 21,
   "metadata": {},
   "outputs": [
    {
     "name": "stdout",
     "output_type": "stream",
     "text": [
      "['gas' 'diesel']\n"
     ]
    }
   ],
   "source": [
    "print (data['Fuel Type'].unique())"
   ]
  },
  {
   "cell_type": "code",
   "execution_count": 22,
   "metadata": {},
   "outputs": [
    {
     "name": "stdout",
     "output_type": "stream",
     "text": [
      "['std' 'turbo']\n"
     ]
    }
   ],
   "source": [
    "print (data['Aspiration'].unique())"
   ]
  },
  {
   "cell_type": "code",
   "execution_count": 23,
   "metadata": {},
   "outputs": [
    {
     "name": "stdout",
     "output_type": "stream",
     "text": [
      "['two' 'four']\n"
     ]
    }
   ],
   "source": [
    "print (data['Door Number'].unique())"
   ]
  },
  {
   "cell_type": "code",
   "execution_count": 24,
   "metadata": {},
   "outputs": [
    {
     "name": "stdout",
     "output_type": "stream",
     "text": [
      "['hardtop' 'sedan' 'convertible' 'hatchback' 'wagon']\n"
     ]
    }
   ],
   "source": [
    "print (data['Car body'].unique())"
   ]
  },
  {
   "cell_type": "code",
   "execution_count": 25,
   "metadata": {},
   "outputs": [
    {
     "name": "stdout",
     "output_type": "stream",
     "text": [
      "['rwd' 'fwd' '4wd']\n"
     ]
    }
   ],
   "source": [
    "print (data['Drive Wheel'].unique())"
   ]
  },
  {
   "cell_type": "code",
   "execution_count": 26,
   "metadata": {},
   "outputs": [
    {
     "name": "stdout",
     "output_type": "stream",
     "text": [
      "['front' 'rear']\n"
     ]
    }
   ],
   "source": [
    "print (data['Engine Location'].unique())"
   ]
  },
  {
   "cell_type": "code",
   "execution_count": 27,
   "metadata": {},
   "outputs": [
    {
     "name": "stdout",
     "output_type": "stream",
     "text": [
      "['mpfi' 'idi' 'spdi' '4bbl' 'mfi' '2bbl' 'spfi' '1bbl']\n"
     ]
    }
   ],
   "source": [
    "print (data['Fuel System'].unique())"
   ]
  },
  {
   "cell_type": "code",
   "execution_count": 28,
   "metadata": {},
   "outputs": [
    {
     "name": "stdout",
     "output_type": "stream",
     "text": [
      "['ohcv' 'ohc' 'ohcf' 'dohc' 'dohcv' 'l' 'rotor']\n"
     ]
    }
   ],
   "source": [
    "print (data['Engine Type'].unique())"
   ]
  },
  {
   "cell_type": "code",
   "execution_count": 29,
   "metadata": {},
   "outputs": [],
   "source": [
    "params_for_dummies = ['fueltype', 'aspiration', 'door number', 'detdummy(car_body)', 'drivewheel', \\\n",
    "                        'Engine Location', 'getdummy(fuelsystem)', 'getdummy(enginetype)']"
   ]
  },
  {
   "cell_type": "code",
   "execution_count": 30,
   "metadata": {},
   "outputs": [],
   "source": [
    "cb = pd.get_dummies(data['Car body'], drop_first=True)\n",
    "fs = pd.get_dummies(data['Fuel System'], drop_first=True)\n",
    "et = pd.get_dummies(data['Engine Type'], drop_first=True)\n",
    "cn = pd.get_dummies(data['Cylinder Number'], drop_first=True)"
   ]
  },
  {
   "cell_type": "code",
   "execution_count": 31,
   "metadata": {},
   "outputs": [],
   "source": [
    "fuel_type_map = {'gas': 0, 'diesel': 1}\n",
    "aspiration_map = {'std': 0, 'turbo': 1}\n",
    "door_number_map = {'two': 0, 'four': 1}\n",
    "drive_wheel_map = {'rwd': 0, 'fwd': 1, '4wd': 2}\n",
    "engine_loc_map = {'front': 0, 'rear': 1}"
   ]
  },
  {
   "cell_type": "code",
   "execution_count": 32,
   "metadata": {},
   "outputs": [],
   "source": [
    "data['Fuel Type'] = data['Fuel Type'].map(fuel_type_map)\n",
    "data['Aspiration'] = data['Aspiration'].map(aspiration_map)\n",
    "data['Door Number'] = data['Door Number'].map(door_number_map)\n",
    "data['Drive Wheel'] = data['Drive Wheel'].map(drive_wheel_map)\n",
    "data['Engine Location'] = data['Engine Location'].map(engine_loc_map)"
   ]
  },
  {
   "cell_type": "code",
   "execution_count": 33,
   "metadata": {},
   "outputs": [],
   "source": [
    "data = pd.concat([data, cb, fs, et, cn], axis = 1)"
   ]
  },
  {
   "cell_type": "code",
   "execution_count": 34,
   "metadata": {},
   "outputs": [],
   "source": [
    "data = data.drop(['Car body', 'Fuel System', 'Engine Type', 'Cylinder Number'], axis = 1)"
   ]
  },
  {
   "cell_type": "code",
   "execution_count": 35,
   "metadata": {},
   "outputs": [],
   "source": [
    "def func(conv):\n",
    "    return int(conv)\n",
    "\n",
    "\n",
    "data['Wheelbase'] = data['Wheelbase'].apply(func)\n",
    "data['Car Length'] = data['Car Length'].apply(func)"
   ]
  },
  {
   "cell_type": "code",
   "execution_count": 36,
   "metadata": {},
   "outputs": [
    {
     "name": "stdout",
     "output_type": "stream",
     "text": [
      "     Car ID  Symboling                         Car Name  Fuel Type  \\\n",
      "0        75          1  buick regal sport coupe (turbo)          0   \n",
      "1        17          0                           bmw x5          0   \n",
      "2        74          0            buick century special          0   \n",
      "3       129          3                   porsche boxter          0   \n",
      "4        18          0                           bmw x3          0   \n",
      "..      ...        ...                              ...        ...   \n",
      "200      77          2                mitsubishi mirage          0   \n",
      "201     151          1            toyota corona mark ii          0   \n",
      "202      51          1                        maxda rx3          0   \n",
      "203      19          2                 chevrolet impala          0   \n",
      "204     139          2                           subaru          0   \n",
      "\n",
      "     Aspiration  Door Number  Drive Wheel  Engine Location  Wheelbase  \\\n",
      "0             0            0            0                0        112   \n",
      "1             0            0            0                0        103   \n",
      "2             0            1            0                0        120   \n",
      "3             0            0            0                1         89   \n",
      "4             0            1            0                0        110   \n",
      "..          ...          ...          ...              ...        ...   \n",
      "200           0            0            1                0         93   \n",
      "201           0            0            1                0         95   \n",
      "202           0            0            1                0         93   \n",
      "203           0            0            1                0         88   \n",
      "204           0            0            1                0         93   \n",
      "\n",
      "     Car Length  ...  ohc  ohcf  ohcv  rotor  five  four  six  three  twelve  \\\n",
      "0           199  ...    0     0     1      0     0     0    0      0       0   \n",
      "1           193  ...    1     0     0      0     0     0    1      0       0   \n",
      "2           208  ...    0     0     1      0     0     0    0      0       0   \n",
      "3           168  ...    0     1     0      0     0     0    1      0       0   \n",
      "4           197  ...    1     0     0      0     0     0    1      0       0   \n",
      "..          ...  ...  ...   ...   ...    ...   ...   ...  ...    ...     ...   \n",
      "200         157  ...    1     0     0      0     0     1    0      0       0   \n",
      "201         158  ...    1     0     0      0     0     1    0      0       0   \n",
      "202         159  ...    1     0     0      0     0     1    0      0       0   \n",
      "203         141  ...    0     0     0      0     0     0    0      1       0   \n",
      "204         156  ...    0     1     0      0     0     1    0      0       0   \n",
      "\n",
      "     two  \n",
      "0      0  \n",
      "1      0  \n",
      "2      0  \n",
      "3      0  \n",
      "4      0  \n",
      "..   ...  \n",
      "200    0  \n",
      "201    0  \n",
      "202    0  \n",
      "203    0  \n",
      "204    0  \n",
      "\n",
      "[205 rows x 45 columns]\n"
     ]
    }
   ],
   "source": [
    "print (data)"
   ]
  },
  {
   "cell_type": "code",
   "execution_count": 37,
   "metadata": {},
   "outputs": [
    {
     "name": "stdout",
     "output_type": "stream",
     "text": [
      "Price                1.000000\n",
      "Engine Size          0.874145\n",
      "Curb Weight          0.835305\n",
      "Horsepower           0.808139\n",
      "Car Width            0.759325\n",
      "Car Length           0.683194\n",
      "Wheelbase            0.580445\n",
      "Bore Ratio           0.553173\n",
      "mpfi                 0.517075\n",
      "six                  0.474978\n",
      "ohcv                 0.385991\n",
      "Engine Location      0.324973\n",
      "five                 0.249606\n",
      "hardtop              0.225854\n",
      "twelve               0.199634\n",
      "Aspiration           0.177926\n",
      "dohcv                0.159225\n",
      "sedan                0.125716\n",
      "Car Height           0.119336\n",
      "Fuel Type            0.105679\n",
      "idi                  0.105679\n",
      "Stroke               0.079443\n",
      "Compression Ratio    0.067984\n",
      "l                    0.042267\n",
      "Door Number          0.031835\n",
      "ohcf                 0.016285\n",
      "mfi                 -0.002747\n",
      "rotor               -0.004544\n",
      "two                 -0.004544\n",
      "4bbl                -0.017306\n",
      "spfi                -0.019580\n",
      "wagon               -0.042310\n",
      "spdi                -0.061475\n",
      "three               -0.071388\n",
      "Symboling           -0.079978\n",
      "Peakrpm             -0.085267\n",
      "Car ID              -0.109093\n",
      "hatchback           -0.262039\n",
      "ohc                 -0.344270\n",
      "2bbl                -0.501374\n",
      "Drive Wheel         -0.577992\n",
      "City mpg            -0.685751\n",
      "Highway mpg         -0.697599\n",
      "four                -0.697762\n",
      "dtype: float64\n"
     ]
    }
   ],
   "source": [
    "a = data.corrwith(data['Price'])\n",
    "print (a.sort_values(ascending=False))"
   ]
  },
  {
   "cell_type": "code",
   "execution_count": 38,
   "metadata": {},
   "outputs": [],
   "source": [
    "data = data.drop(['Car ID', 'Car Name'], axis = 1)"
   ]
  },
  {
   "cell_type": "code",
   "execution_count": 39,
   "metadata": {},
   "outputs": [],
   "source": [
    "from sklearn.model_selection import train_test_split\n",
    "from sklearn.linear_model import LinearRegression\n",
    "from sklearn.tree import DecisionTreeRegressor\n",
    "from sklearn.ensemble import RandomForestRegressor\n",
    "from sklearn.preprocessing import StandardScaler, MinMaxScaler\n",
    "from sklearn.metrics import explained_variance_score, mean_absolute_error, mean_squared_error"
   ]
  },
  {
   "cell_type": "code",
   "execution_count": 40,
   "metadata": {},
   "outputs": [
    {
     "name": "stdout",
     "output_type": "stream",
     "text": [
      "[[1. 0. 0. ... 0. 0. 0.]\n",
      " [0. 0. 0. ... 0. 0. 0.]\n",
      " [0. 0. 0. ... 0. 0. 0.]\n",
      " ...\n",
      " [1. 0. 0. ... 0. 0. 0.]\n",
      " [2. 0. 0. ... 1. 0. 0.]\n",
      " [2. 0. 0. ... 0. 0. 0.]]\n"
     ]
    }
   ],
   "source": [
    "X = data.drop('Price', axis = 1).values\n",
    "y = data['Price'].values\n",
    "\n",
    "X_train, X_test, y_train, y_test = train_test_split(X, y, test_size=0.2, random_state=101)\n",
    "scale = MinMaxScaler(feature_range=(0,1))\n",
    "scale.fit(X_train)\n",
    "X_train = scale.transform(X_train)\n",
    "X_test = scale.transform(X_test)\n",
    "print (X)"
   ]
  },
  {
   "cell_type": "code",
   "execution_count": 41,
   "metadata": {},
   "outputs": [],
   "source": [
    "lr = LinearRegression()\n",
    "lr.fit(X_train, y_train)\n",
    "lr_pred = lr.predict(X_test)"
   ]
  },
  {
   "cell_type": "code",
   "execution_count": 42,
   "metadata": {},
   "outputs": [
    {
     "name": "stdout",
     "output_type": "stream",
     "text": [
      "0.9061911481204176\n"
     ]
    }
   ],
   "source": [
    "pred1 = pd.DataFrame(data = y_test, columns = ['true'])\n",
    "pred2 = pd.DataFrame(data = lr_pred, columns = ['predictions'])\n",
    "pred = pd.concat([pred1, pred2], axis = 1)\n",
    "# print (pred)\n",
    "print (explained_variance_score(y_test, lr_pred))"
   ]
  },
  {
   "cell_type": "code",
   "execution_count": 43,
   "metadata": {},
   "outputs": [],
   "source": [
    "dtr = DecisionTreeRegressor(splitter = 'best', max_depth=10)\n",
    "dtr.fit(X_train, y_train)\n",
    "dtr_pred = dtr.predict(X_test)"
   ]
  },
  {
   "cell_type": "code",
   "execution_count": 44,
   "metadata": {},
   "outputs": [
    {
     "name": "stdout",
     "output_type": "stream",
     "text": [
      "       true   predictions\n",
      "0    9258.0   8076.000000\n",
      "1    6575.0   5499.000000\n",
      "2    6695.0   7173.750000\n",
      "3    9279.0   9232.000000\n",
      "4    9960.0   9232.000000\n",
      "5   10198.0   9232.000000\n",
      "6    8499.0   8013.000000\n",
      "7   11595.0   9298.000000\n",
      "8   17950.0  16900.000000\n",
      "9   18280.0  18150.000000\n",
      "10   7995.0   7775.000000\n",
      "11  14489.0  14869.000000\n",
      "12  12945.0   9232.000000\n",
      "13   7799.0   6498.333333\n",
      "14   7898.0   7207.857143\n",
      "15  14399.0  13499.000000\n",
      "16  11900.0  12440.000000\n",
      "17   6989.0   8189.000000\n",
      "18  18420.0  16503.000000\n",
      "19  11259.0   9239.000000\n",
      "20  17199.0  16558.000000\n",
      "21  17450.0  15510.000000\n",
      "22   7788.0   5453.333333\n",
      "23  16430.0  16925.000000\n",
      "24   7295.0   7173.750000\n",
      "25  16630.0  12440.000000\n",
      "26  16515.0  15985.000000\n",
      "27   7609.0   6805.000000\n",
      "28   6649.0   7207.857143\n",
      "29   7999.0   7207.857143\n",
      "30  20970.0  21105.000000\n",
      "31  15998.0  16558.000000\n",
      "32   5348.0   6319.000000\n",
      "33  40960.0  45400.000000\n",
      "34  31600.0  25552.000000\n",
      "35   5572.0   5453.333333\n",
      "36  10945.0  11845.000000\n",
      "37  22018.0  18150.000000\n",
      "38  10595.0   9239.000000\n",
      "39  17710.0  16845.000000\n",
      "40  18399.0  19699.000000\n",
      "0.9401701150970202\n"
     ]
    }
   ],
   "source": [
    "pred1 = pd.DataFrame(data = y_test, columns = ['true'])\n",
    "pred2 = pd.DataFrame(data = dtr_pred, columns = ['predictions'])\n",
    "pred = pd.concat([pred1, pred2], axis = 1)\n",
    "print (pred)\n",
    "print (explained_variance_score(y_test, dtr_pred))"
   ]
  },
  {
   "cell_type": "code",
   "execution_count": 45,
   "metadata": {},
   "outputs": [],
   "source": [
    "rfr = RandomForestRegressor(n_estimators=40)\n",
    "rfr.fit(X_train, y_train)\n",
    "rfr_pred = rfr.predict(X_test)"
   ]
  },
  {
   "cell_type": "code",
   "execution_count": 46,
   "metadata": {},
   "outputs": [
    {
     "name": "stdout",
     "output_type": "stream",
     "text": [
      "       true   predictions\n",
      "0    9258.0   8062.000000\n",
      "1    6575.0   8136.262500\n",
      "2    6695.0   7020.550000\n",
      "3    9279.0   9422.750000\n",
      "4    9960.0  10024.350000\n",
      "5   10198.0  10550.675000\n",
      "6    8499.0   9173.900000\n",
      "7   11595.0   9367.537500\n",
      "8   17950.0  15706.750000\n",
      "9   18280.0  14400.416667\n",
      "10   7995.0   7976.750000\n",
      "11  14489.0  14751.375000\n",
      "12  12945.0  11657.050000\n",
      "13   7799.0   6514.400000\n",
      "14   7898.0   7699.325000\n",
      "15  14399.0  14865.950000\n",
      "16  11900.0  14974.500000\n",
      "17   6989.0   8645.225000\n",
      "18  18420.0  17996.179175\n",
      "19  11259.0  11038.050000\n",
      "20  17199.0  17930.379175\n",
      "21  17450.0  14736.137525\n",
      "22   7788.0   7444.025000\n",
      "23  16430.0  14720.633333\n",
      "24   7295.0   7377.537500\n",
      "25  16630.0  15064.000000\n",
      "26  16515.0  14426.125000\n",
      "27   7609.0   7260.975000\n",
      "28   6649.0   6509.550000\n",
      "29   7999.0   7254.883333\n",
      "30  20970.0  17184.975000\n",
      "31  15998.0  17256.479175\n",
      "32   5348.0   6371.550000\n",
      "33  40960.0  39500.350000\n",
      "34  31600.0  28044.787500\n",
      "35   5572.0   5779.125000\n",
      "36  10945.0  12485.850000\n",
      "37  22018.0  14637.285417\n",
      "38  10595.0   9052.075000\n",
      "39  17710.0  19834.575000\n",
      "40  18399.0  18021.300000\n",
      "0.9290819917941661\n"
     ]
    }
   ],
   "source": [
    "pred1 = pd.DataFrame(data = y_test, columns = ['true'])\n",
    "pred2 = pd.DataFrame(data = rfr_pred, columns = ['predictions'])\n",
    "pred = pd.concat([pred1, pred2], axis = 1)\n",
    "print (pred)\n",
    "print (explained_variance_score(y_test, rfr_pred))"
   ]
  },
  {
   "cell_type": "code",
   "execution_count": 47,
   "metadata": {},
   "outputs": [
    {
     "name": "stdout",
     "output_type": "stream",
     "text": [
      "Epoch 1/600\n",
      "164/164 [==============================] - 2s 5ms/step - loss: 239155056.0000 - val_loss: 200509984.0000\n",
      "Epoch 2/600\n",
      "164/164 [==============================] - 1s 3ms/step - loss: 133084424.0000 - val_loss: 48764860.0000\n",
      "Epoch 3/600\n",
      "164/164 [==============================] - 1s 4ms/step - loss: 58603852.0000 - val_loss: 33318778.0000\n",
      "Epoch 4/600\n",
      "164/164 [==============================] - 1s 3ms/step - loss: 46251836.0000 - val_loss: 25899728.0000\n",
      "Epoch 5/600\n",
      "164/164 [==============================] - 1s 3ms/step - loss: 37521104.0000 - val_loss: 20036494.0000\n",
      "Epoch 6/600\n",
      "164/164 [==============================] - 1s 4ms/step - loss: 30122980.0000 - val_loss: 16225614.0000\n",
      "Epoch 7/600\n",
      "164/164 [==============================] - 1s 4ms/step - loss: 24635772.0000 - val_loss: 13748964.0000\n",
      "Epoch 8/600\n",
      "164/164 [==============================] - 1s 4ms/step - loss: 20987512.0000 - val_loss: 12315853.0000\n",
      "Epoch 9/600\n",
      "164/164 [==============================] - 1s 3ms/step - loss: 18470334.0000 - val_loss: 12506191.0000\n",
      "Epoch 10/600\n",
      "164/164 [==============================] - 1s 4ms/step - loss: 16648709.0000 - val_loss: 11869609.0000\n",
      "Epoch 11/600\n",
      "164/164 [==============================] - 1s 4ms/step - loss: 15332055.0000 - val_loss: 11221348.0000\n",
      "Epoch 12/600\n",
      "164/164 [==============================] - 1s 4ms/step - loss: 14593016.0000 - val_loss: 11045763.0000\n",
      "Epoch 13/600\n",
      "164/164 [==============================] - 1s 3ms/step - loss: 13827195.0000 - val_loss: 11219120.0000\n",
      "Epoch 14/600\n",
      "164/164 [==============================] - 1s 4ms/step - loss: 12992767.0000 - val_loss: 11053527.0000\n",
      "Epoch 15/600\n",
      "164/164 [==============================] - 1s 4ms/step - loss: 12279817.0000 - val_loss: 11460481.0000\n",
      "Epoch 16/600\n",
      "164/164 [==============================] - 1s 4ms/step - loss: 12051087.0000 - val_loss: 10832515.0000\n",
      "Epoch 17/600\n",
      "164/164 [==============================] - 1s 4ms/step - loss: 11637092.0000 - val_loss: 10990990.0000\n",
      "Epoch 18/600\n",
      "164/164 [==============================] - 1s 4ms/step - loss: 11239081.0000 - val_loss: 10685855.0000\n",
      "Epoch 19/600\n",
      "164/164 [==============================] - 1s 4ms/step - loss: 10767308.0000 - val_loss: 11038373.0000\n",
      "Epoch 20/600\n",
      "164/164 [==============================] - 1s 4ms/step - loss: 10752758.0000 - val_loss: 10625132.0000\n",
      "Epoch 21/600\n",
      "164/164 [==============================] - 1s 4ms/step - loss: 10775588.0000 - val_loss: 10554751.0000\n",
      "Epoch 22/600\n",
      "164/164 [==============================] - 1s 4ms/step - loss: 10334281.0000 - val_loss: 10242448.0000\n",
      "Epoch 23/600\n",
      "164/164 [==============================] - 1s 4ms/step - loss: 9854965.0000 - val_loss: 10069719.0000\n",
      "Epoch 24/600\n",
      "164/164 [==============================] - 1s 4ms/step - loss: 9757499.0000 - val_loss: 10076124.0000\n",
      "Epoch 25/600\n",
      "164/164 [==============================] - 1s 3ms/step - loss: 9342389.0000 - val_loss: 10110896.0000\n",
      "Epoch 26/600\n",
      "164/164 [==============================] - 1s 4ms/step - loss: 9353659.0000 - val_loss: 9872225.0000\n",
      "Epoch 27/600\n",
      "164/164 [==============================] - 1s 3ms/step - loss: 9036852.0000 - val_loss: 9677250.0000\n",
      "Epoch 28/600\n",
      "164/164 [==============================] - 1s 3ms/step - loss: 9185751.0000 - val_loss: 9236752.0000\n",
      "Epoch 29/600\n",
      "164/164 [==============================] - 1s 4ms/step - loss: 8775414.0000 - val_loss: 9408999.0000\n",
      "Epoch 30/600\n",
      "164/164 [==============================] - 1s 4ms/step - loss: 8357320.0000 - val_loss: 9204750.0000\n",
      "Epoch 31/600\n",
      "164/164 [==============================] - 1s 4ms/step - loss: 8521984.0000 - val_loss: 8778637.0000\n",
      "Epoch 32/600\n",
      "164/164 [==============================] - 1s 4ms/step - loss: 8213227.0000 - val_loss: 8919343.0000\n",
      "Epoch 33/600\n",
      "164/164 [==============================] - 1s 3ms/step - loss: 8062426.5000 - val_loss: 8355970.5000\n",
      "Epoch 34/600\n",
      "164/164 [==============================] - 1s 4ms/step - loss: 8122022.0000 - val_loss: 7939767.5000\n",
      "Epoch 35/600\n",
      "164/164 [==============================] - 1s 4ms/step - loss: 7843855.0000 - val_loss: 8065367.5000\n",
      "Epoch 36/600\n",
      "164/164 [==============================] - 1s 4ms/step - loss: 7530408.5000 - val_loss: 7765821.5000\n",
      "Epoch 37/600\n",
      "164/164 [==============================] - 1s 4ms/step - loss: 7344812.5000 - val_loss: 7880568.0000\n",
      "Epoch 38/600\n",
      "164/164 [==============================] - 1s 4ms/step - loss: 7757217.0000 - val_loss: 7688323.0000\n",
      "Epoch 39/600\n",
      "164/164 [==============================] - 1s 4ms/step - loss: 7192796.0000 - val_loss: 7057812.5000\n",
      "Epoch 40/600\n",
      "164/164 [==============================] - 1s 4ms/step - loss: 7076829.0000 - val_loss: 6808943.0000\n",
      "Epoch 41/600\n",
      "164/164 [==============================] - 1s 4ms/step - loss: 6860289.0000 - val_loss: 6649106.5000\n",
      "Epoch 42/600\n",
      "164/164 [==============================] - 1s 4ms/step - loss: 6840695.5000 - val_loss: 6477374.5000\n",
      "Epoch 43/600\n",
      "164/164 [==============================] - 1s 3ms/step - loss: 6598583.5000 - val_loss: 6213115.5000\n",
      "Epoch 44/600\n",
      "164/164 [==============================] - 1s 3ms/step - loss: 6541510.5000 - val_loss: 6249431.5000\n",
      "Epoch 45/600\n",
      "164/164 [==============================] - 1s 4ms/step - loss: 6252394.0000 - val_loss: 6047767.0000\n",
      "Epoch 46/600\n",
      "164/164 [==============================] - 1s 4ms/step - loss: 6096645.0000 - val_loss: 5645355.5000\n",
      "Epoch 47/600\n",
      "164/164 [==============================] - 1s 4ms/step - loss: 6084950.5000 - val_loss: 5533605.5000\n",
      "Epoch 48/600\n",
      "164/164 [==============================] - 1s 4ms/step - loss: 5961969.0000 - val_loss: 5577357.5000\n",
      "Epoch 49/600\n",
      "164/164 [==============================] - 1s 4ms/step - loss: 5828734.5000 - val_loss: 5255133.0000\n",
      "Epoch 50/600\n",
      "164/164 [==============================] - 1s 4ms/step - loss: 5702289.0000 - val_loss: 5282626.0000\n",
      "Epoch 51/600\n",
      "164/164 [==============================] - 1s 4ms/step - loss: 5664879.5000 - val_loss: 4997745.5000\n",
      "Epoch 52/600\n",
      "164/164 [==============================] - 1s 4ms/step - loss: 5707588.5000 - val_loss: 4984918.0000\n",
      "Epoch 53/600\n",
      "164/164 [==============================] - 1s 3ms/step - loss: 5352511.0000 - val_loss: 5066809.0000\n",
      "Epoch 54/600\n",
      "164/164 [==============================] - 1s 4ms/step - loss: 5275659.0000 - val_loss: 4582180.5000\n",
      "Epoch 55/600\n",
      "164/164 [==============================] - 1s 4ms/step - loss: 5128288.5000 - val_loss: 4494129.0000\n",
      "Epoch 56/600\n",
      "164/164 [==============================] - 1s 4ms/step - loss: 4977841.5000 - val_loss: 4670531.0000\n",
      "Epoch 57/600\n",
      "164/164 [==============================] - 1s 4ms/step - loss: 4809693.5000 - val_loss: 4400671.0000\n",
      "Epoch 58/600\n",
      "164/164 [==============================] - 1s 4ms/step - loss: 4658870.0000 - val_loss: 4313462.5000\n",
      "Epoch 59/600\n",
      "164/164 [==============================] - 1s 4ms/step - loss: 4750450.5000 - val_loss: 4074957.0000\n",
      "Epoch 60/600\n",
      "164/164 [==============================] - 1s 4ms/step - loss: 4791463.0000 - val_loss: 4021792.0000\n",
      "Epoch 61/600\n",
      "164/164 [==============================] - 1s 4ms/step - loss: 4573270.0000 - val_loss: 4103431.5000\n",
      "Epoch 62/600\n",
      "164/164 [==============================] - 1s 4ms/step - loss: 4340156.0000 - val_loss: 3952083.5000\n",
      "Epoch 63/600\n",
      "164/164 [==============================] - 1s 4ms/step - loss: 4344236.0000 - val_loss: 4372193.0000\n",
      "Epoch 64/600\n",
      "164/164 [==============================] - 1s 4ms/step - loss: 4246950.5000 - val_loss: 4113268.2500\n",
      "Epoch 65/600\n",
      "164/164 [==============================] - 1s 4ms/step - loss: 4271809.0000 - val_loss: 4299398.0000\n",
      "Epoch 66/600\n",
      "164/164 [==============================] - 1s 3ms/step - loss: 4173046.7500 - val_loss: 4504659.0000\n",
      "Epoch 67/600\n",
      "164/164 [==============================] - 1s 4ms/step - loss: 4128372.7500 - val_loss: 3788824.5000\n",
      "Epoch 68/600\n",
      "164/164 [==============================] - 1s 4ms/step - loss: 3964025.2500 - val_loss: 3639305.0000\n",
      "Epoch 69/600\n",
      "164/164 [==============================] - 1s 3ms/step - loss: 3980210.0000 - val_loss: 3489611.7500\n",
      "Epoch 70/600\n",
      "164/164 [==============================] - 1s 4ms/step - loss: 3824043.7500 - val_loss: 3810417.5000\n",
      "Epoch 71/600\n",
      "164/164 [==============================] - 1s 4ms/step - loss: 3751271.0000 - val_loss: 3552605.7500\n",
      "Epoch 72/600\n",
      "164/164 [==============================] - 1s 4ms/step - loss: 3672183.7500 - val_loss: 3636314.2500\n",
      "Epoch 73/600\n",
      "164/164 [==============================] - 1s 4ms/step - loss: 3442771.0000 - val_loss: 4195264.5000\n",
      "Epoch 74/600\n",
      "164/164 [==============================] - 1s 4ms/step - loss: 3658052.0000 - val_loss: 3365748.0000\n",
      "Epoch 75/600\n",
      "164/164 [==============================] - 1s 4ms/step - loss: 3479420.0000 - val_loss: 3567879.0000\n",
      "Epoch 76/600\n",
      "164/164 [==============================] - 1s 4ms/step - loss: 3527703.5000 - val_loss: 3522605.7500\n",
      "Epoch 77/600\n",
      "164/164 [==============================] - 1s 4ms/step - loss: 3448478.7500 - val_loss: 3626722.7500\n",
      "Epoch 78/600\n",
      "164/164 [==============================] - 1s 3ms/step - loss: 3419945.7500 - val_loss: 3479294.0000\n",
      "Epoch 79/600\n",
      "164/164 [==============================] - 1s 4ms/step - loss: 3209773.7500 - val_loss: 3757525.5000\n",
      "Epoch 80/600\n",
      "164/164 [==============================] - 1s 4ms/step - loss: 3273810.2500 - val_loss: 3353960.2500\n",
      "Epoch 81/600\n",
      "164/164 [==============================] - 1s 3ms/step - loss: 3157684.2500 - val_loss: 3758720.5000\n",
      "Epoch 82/600\n",
      "164/164 [==============================] - 1s 3ms/step - loss: 3188905.0000 - val_loss: 3491220.0000\n",
      "Epoch 83/600\n",
      "164/164 [==============================] - 1s 4ms/step - loss: 3069540.7500 - val_loss: 3689881.0000\n",
      "Epoch 84/600\n",
      "164/164 [==============================] - 1s 3ms/step - loss: 3006799.2500 - val_loss: 4018907.7500\n",
      "Epoch 85/600\n",
      "164/164 [==============================] - 1s 4ms/step - loss: 3005827.0000 - val_loss: 3935543.7500\n",
      "Epoch 86/600\n",
      "164/164 [==============================] - 1s 4ms/step - loss: 3048592.0000 - val_loss: 3733493.7500\n",
      "Epoch 87/600\n",
      "164/164 [==============================] - 1s 4ms/step - loss: 2943830.7500 - val_loss: 3847997.0000\n",
      "Epoch 88/600\n",
      "164/164 [==============================] - 1s 4ms/step - loss: 2978310.0000 - val_loss: 3363430.7500\n",
      "Epoch 89/600\n",
      "164/164 [==============================] - 1s 3ms/step - loss: 2932726.7500 - val_loss: 3441965.7500\n",
      "Epoch 90/600\n",
      "164/164 [==============================] - 1s 4ms/step - loss: 2893242.5000 - val_loss: 3797628.5000\n",
      "Epoch 91/600\n",
      "164/164 [==============================] - 1s 4ms/step - loss: 2751979.2500 - val_loss: 3359732.0000\n",
      "Epoch 92/600\n",
      "164/164 [==============================] - 1s 4ms/step - loss: 2680243.0000 - val_loss: 3499801.7500\n",
      "Epoch 93/600\n",
      "164/164 [==============================] - 1s 4ms/step - loss: 2779415.2500 - val_loss: 3395984.0000\n",
      "Epoch 94/600\n",
      "164/164 [==============================] - 1s 4ms/step - loss: 2658977.2500 - val_loss: 3890091.0000\n",
      "Epoch 95/600\n",
      "164/164 [==============================] - 1s 4ms/step - loss: 2652677.7500 - val_loss: 3518086.2500\n",
      "Epoch 96/600\n",
      "164/164 [==============================] - 1s 3ms/step - loss: 2626107.2500 - val_loss: 3426948.2500\n",
      "Epoch 97/600\n",
      "164/164 [==============================] - 1s 4ms/step - loss: 2687854.5000 - val_loss: 3427625.7500\n",
      "Epoch 98/600\n",
      "164/164 [==============================] - 1s 5ms/step - loss: 2658745.2500 - val_loss: 3471621.5000\n",
      "Epoch 99/600\n",
      "164/164 [==============================] - 1s 4ms/step - loss: 2564922.5000 - val_loss: 3481537.2500\n",
      "Epoch 100/600\n",
      "164/164 [==============================] - 1s 4ms/step - loss: 2581646.5000 - val_loss: 3897022.5000\n",
      "Epoch 101/600\n",
      "164/164 [==============================] - 1s 3ms/step - loss: 2517376.2500 - val_loss: 3455747.0000\n",
      "Epoch 102/600\n",
      "164/164 [==============================] - 1s 4ms/step - loss: 2399050.5000 - val_loss: 4124686.7500\n",
      "Epoch 103/600\n",
      "164/164 [==============================] - 1s 4ms/step - loss: 2567633.0000 - val_loss: 3607353.7500\n",
      "Epoch 104/600\n",
      "164/164 [==============================] - 1s 3ms/step - loss: 2571010.2500 - val_loss: 3911918.7500\n",
      "Epoch 105/600\n",
      "164/164 [==============================] - 1s 4ms/step - loss: 2476673.2500 - val_loss: 3744973.2500\n"
     ]
    },
    {
     "data": {
      "text/plain": [
       "<keras.callbacks.History at 0x2808a15ac50>"
      ]
     },
     "execution_count": 47,
     "metadata": {},
     "output_type": "execute_result"
    }
   ],
   "source": [
    "import tensorflow as tf\n",
    "from tensorflow import keras\n",
    "from keras.models import Sequential, load_model\n",
    "from keras.layers import Dense, Dropout\n",
    "from keras.callbacks import EarlyStopping\n",
    "\n",
    "model = Sequential()\n",
    "model.add(Dense(units = 42, activation = 'relu'))\n",
    "model.add(Dense(units = 84, activation = 'relu'))\n",
    "model.add(Dense(units = 42, activation = 'relu'))\n",
    "model.add(Dense(units = 1, activation = 'linear'))\n",
    "\n",
    "model.compile(optimizer='adam', loss = 'mse')\n",
    "stop = EarlyStopping(monitor = 'val_loss', patience = 25, mode = 'auto')\n",
    "model.fit(\n",
    "        x = X_train,\n",
    "        y = y_train,\n",
    "        epochs = 600,\n",
    "        batch_size=1,\n",
    "        validation_data=(X_test, y_test),\n",
    "        callbacks=[stop]\n",
    ")"
   ]
  },
  {
   "cell_type": "code",
   "execution_count": 48,
   "metadata": {},
   "outputs": [
    {
     "data": {
      "text/plain": [
       "<AxesSubplot:>"
      ]
     },
     "execution_count": 48,
     "metadata": {},
     "output_type": "execute_result"
    },
    {
     "data": {
      "image/png": "[encoded data removed]",
      "text/plain": [
       "<Figure size 432x288 with 1 Axes>"
      ]
     },
     "metadata": {},
     "output_type": "display_data"
    }
   ],
   "source": [
    "a = pd.DataFrame(data = model.history.history)\n",
    "a[['loss', 'val_loss']].plot(color = ['red', 'blue'])"
   ]
  },
  {
   "cell_type": "code",
   "execution_count": 49,
   "metadata": {},
   "outputs": [
    {
     "name": "stdout",
     "output_type": "stream",
     "text": [
      "       true   predictions\n",
      "0    9258.0   7325.644531\n",
      "1    6575.0   6260.244629\n",
      "2    6695.0   7162.736816\n",
      "3    9279.0   7611.705566\n",
      "4    9960.0   9199.724609\n",
      "5   10198.0   9140.396484\n",
      "6    8499.0   9631.103516\n",
      "7   11595.0  10642.946289\n",
      "8   17950.0  15141.412109\n",
      "9   18280.0  14689.140625\n",
      "10   7995.0   9677.078125\n",
      "11  14489.0  12762.433594\n",
      "12  12945.0  10096.547852\n",
      "13   7799.0   7126.123535\n",
      "14   7898.0   8326.308594\n",
      "15  14399.0  14657.482422\n",
      "16  11900.0  12819.006836\n",
      "17   6989.0   9238.838867\n",
      "18  18420.0  19508.402344\n",
      "19  11259.0  10771.773438\n",
      "20  17199.0  16437.080078\n",
      "21  17450.0  14241.774414\n",
      "22   7788.0   8081.086914\n",
      "23  16430.0  14580.027344\n",
      "24   7295.0   7478.440430\n",
      "25  16630.0  12990.983398\n",
      "26  16515.0  14368.677734\n",
      "27   7609.0   7480.706543\n",
      "28   6649.0   7156.210449\n",
      "29   7999.0   7212.303223\n",
      "30  20970.0  23261.843750\n",
      "31  15998.0  19009.623047\n",
      "32   5348.0   6423.686035\n",
      "33  40960.0  42558.074219\n",
      "34  31600.0  30258.857422\n",
      "35   5572.0   6121.411621\n",
      "36  10945.0  12571.019531\n",
      "37  22018.0  15750.375977\n",
      "38  10595.0   9748.333984\n",
      "39  17710.0  18536.197266\n",
      "40  18399.0  16535.560547\n",
      "0.9300777584340666\n"
     ]
    }
   ],
   "source": [
    "k_reg_pred = model.predict(X_test)\n",
    "pred1 = pd.DataFrame(data = y_test, columns = ['true'])\n",
    "pred2 = pd.DataFrame(data = k_reg_pred, columns = ['predictions'])\n",
    "pred = pd.concat([pred1, pred2], axis = 1)\n",
    "print (pred)\n",
    "print (explained_variance_score(y_test, k_reg_pred))"
   ]
  },
  {
   "cell_type": "code",
   "execution_count": 50,
   "metadata": {},
   "outputs": [
    {
     "data": {
      "image/png": "[encoded data removed]",
      "text/plain": [
       "<Figure size 720x432 with 1 Axes>"
      ]
     },
     "metadata": {},
     "output_type": "display_data"
    }
   ],
   "source": [
    "plt.style.use('dark_background')\n",
    "plt.figure(figsize =(10,6))\n",
    "sns.regplot(x= 'true', y = 'predictions', data = pred, color = 'red')\n",
    "plt.tick_params(axis = 'both', labelsize = 10, labelcolor = 'white')\n",
    "plt.xlabel('TRUE VALUES', fontsize = 12.5, fontweight = 'bold', color = 'white')\n",
    "plt.ylabel('PREDICTED VALUES', fontsize = 12.5, fontweight = 'bold', color = 'white')\n",
    "plt.title('GRAPH SHOWING ACCURACY OF MODEL', fontsize = 14, fontweight = 'bold', color = 'white')\n",
    "plt.grid(axis = 'x')\n",
    "plt.savefig('C:/Users/Ayo Agbaje/Documents/Code/Python/GIGS/IMAGES/ML_gig/car_level_reg.png')"
   ]
  },
  {
   "cell_type": "code",
   "execution_count": 51,
   "metadata": {},
   "outputs": [],
   "source": [
    "pred.to_excel('C:/Users/Ayo Agbaje/Documents/Code/Python/GIGS/preds.xlsx')"
   ]
  },
  {
   "cell_type": "code",
   "execution_count": 52,
   "metadata": {},
   "outputs": [
    {
     "name": "stdout",
     "output_type": "stream",
     "text": [
      "Index(['Symboling', 'Fuel Type', 'Aspiration', 'Door Number', 'Drive Wheel',\n",
      "       'Engine Location', 'Wheelbase', 'Car Length', 'Car Width', 'Car Height',\n",
      "       'Curb Weight', 'Engine Size', 'Bore Ratio', 'Stroke',\n",
      "       'Compression Ratio', 'Horsepower', 'Peakrpm', 'City mpg', 'Highway mpg',\n",
      "       'Price', 'hardtop', 'hatchback', 'sedan', 'wagon', '2bbl', '4bbl',\n",
      "       'idi', 'mfi', 'mpfi', 'spdi', 'spfi', 'dohcv', 'l', 'ohc', 'ohcf',\n",
      "       'ohcv', 'rotor', 'five', 'four', 'six', 'three', 'twelve', 'two'],\n",
      "      dtype='object')\n"
     ]
    }
   ],
   "source": [
    "print (data.columns)"
   ]
  },
  {
   "cell_type": "code",
   "execution_count": 53,
   "metadata": {},
   "outputs": [
    {
     "name": "stdout",
     "output_type": "stream",
     "text": [
      "[0. 0. 0. 0.]\n"
     ]
    }
   ],
   "source": [
    "a = np.zeros(4)\n",
    "print (a)"
   ]
  },
  {
   "cell_type": "code",
   "execution_count": null,
   "metadata": {},
   "outputs": [],
   "source": []
  }
 ],
 "metadata": {
  "interpreter": {
   "hash": "f7f7d02632fd5d3b0553ed486598f267a4188aef7fc20fd10eb6039fa0187889"
  },
  "kernelspec": {
   "display_name": "Python 3.10.1 ('my_venv')",
   "language": "python",
   "name": "python3"
  },
  "language_info": {
   "codemirror_mode": {
    "name": "ipython",
    "version": 3
   },
   "file_extension": ".py",
   "mimetype": "text/x-python",
   "name": "python",
   "nbconvert_exporter": "python",
   "pygments_lexer": "ipython3",
   "version": "3.10.1"
  },
  "orig_nbformat": 4
 },
 "nbformat": 4,
 "nbformat_minor": 2
}
